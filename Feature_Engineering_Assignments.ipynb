{
 "cells": [
  {
   "cell_type": "markdown",
   "id": "4fb1a380",
   "metadata": {},
   "source": [
    "# Feature Engineering - Assignment"
   ]
  },
  {
   "cell_type": "markdown",
   "id": "4206a253",
   "metadata": {},
   "source": [
    "### 1. What is a parameter?"
   ]
  },
  {
   "cell_type": "markdown",
   "id": "16d4c2b0",
   "metadata": {},
   "source": [
    "A **parameter** is an internal variable used by a machine learning model to make predictions. During training, the model learns the values of parameters such as weights in linear regression or coefficients in logistic regression."
   ]
  },
  {
   "cell_type": "markdown",
   "id": "8b4ce729",
   "metadata": {},
   "source": [
    "### 2. What is correlation?"
   ]
  },
  {
   "cell_type": "markdown",
   "id": "38ebbaca",
   "metadata": {},
   "source": [
    "**Correlation** refers to the statistical relationship between two variables. It indicates how one variable moves in relation to another. Values range from -1 to 1."
   ]
  },
  {
   "cell_type": "markdown",
   "id": "49d14671",
   "metadata": {},
   "source": [
    "### 3. What does negative correlation mean?"
   ]
  },
  {
   "cell_type": "markdown",
   "id": "18d8fa7a",
   "metadata": {},
   "source": [
    "A **negative correlation** means that as one variable increases, the other decreases. For example, the more hours you spend watching TV, the lower your exam score might be."
   ]
  },
  {
   "cell_type": "markdown",
   "id": "32362c81",
   "metadata": {},
   "source": [
    "### 4. Define Machine Learning. What are the main components in Machine Learning?"
   ]
  },
  {
   "cell_type": "markdown",
   "id": "7ed58c12",
   "metadata": {},
   "source": [
    "**Machine Learning** is a branch of artificial intelligence that allows systems to learn from data and make decisions without being explicitly programmed.\n",
    "\n",
    "**Main components:**\n",
    "- Data\n",
    "- Features\n",
    "- Algorithm (model)\n",
    "- Loss function\n",
    "- Optimizer"
   ]
  },
  {
   "cell_type": "markdown",
   "id": "55b2c25f",
   "metadata": {},
   "source": [
    "### 5. How does loss value help in determining whether the model is good or not?"
   ]
  },
  {
   "cell_type": "markdown",
   "id": "2a817a9b",
   "metadata": {},
   "source": [
    "The **loss value** quantifies how well the model’s predictions match the actual values. A lower loss indicates a better model fit."
   ]
  },
  {
   "cell_type": "markdown",
   "id": "18576946",
   "metadata": {},
   "source": [
    "### 6. What are continuous and categorical variables?"
   ]
  },
  {
   "cell_type": "markdown",
   "id": "08677ca8",
   "metadata": {},
   "source": [
    "- **Continuous variables** can take any numerical value (e.g., height, weight).\n",
    "- **Categorical variables** represent categories or groups (e.g., gender, color)."
   ]
  },
  {
   "cell_type": "markdown",
   "id": "6ffa0450",
   "metadata": {},
   "source": [
    "### 7. How do we handle categorical variables in Machine Learning? What are the common techniques?"
   ]
  },
  {
   "cell_type": "markdown",
   "id": "e01786c8",
   "metadata": {},
   "source": [
    "**Common techniques:**\n",
    "- Label Encoding\n",
    "- One-Hot Encoding\n",
    "- Ordinal Encoding\n",
    "These convert categories into numeric forms so models can interpret them."
   ]
  },
  {
   "cell_type": "markdown",
   "id": "3743865d",
   "metadata": {},
   "source": [
    "### 8. What do you mean by training and testing a dataset?"
   ]
  },
  {
   "cell_type": "markdown",
   "id": "e8db1f57",
   "metadata": {},
   "source": [
    "- **Training data** is used to teach the model.\n",
    "- **Testing data** is used to evaluate its performance on unseen data."
   ]
  },
  {
   "cell_type": "markdown",
   "id": "8503fbd9",
   "metadata": {},
   "source": [
    "### 9. What is sklearn.preprocessing?"
   ]
  },
  {
   "cell_type": "markdown",
   "id": "1b31c0d1",
   "metadata": {},
   "source": [
    "`sklearn.preprocessing` is a module in Scikit-learn that provides methods to scale, normalize, encode, and transform features."
   ]
  },
  {
   "cell_type": "markdown",
   "id": "b71de07f",
   "metadata": {},
   "source": [
    "### 10. What is a Test set?"
   ]
  },
  {
   "cell_type": "markdown",
   "id": "cc7e782b",
   "metadata": {},
   "source": [
    "The **test set** is a subset of data used to assess the model's final performance after training."
   ]
  },
  {
   "cell_type": "markdown",
   "id": "7ffbd245",
   "metadata": {},
   "source": [
    "### 11. How do we split data for model fitting (training and testing) in Python?"
   ]
  },
  {
   "cell_type": "markdown",
   "id": "6594486a",
   "metadata": {},
   "source": [
    "### 12. How do you approach a Machine Learning problem?"
   ]
  },
  {
   "cell_type": "markdown",
   "id": "3a849f5d",
   "metadata": {},
   "source": [
    "1. Define the problem\n",
    "2. Collect and clean data\n",
    "3. Perform EDA\n",
    "4. Feature engineering\n",
    "5. Model selection\n",
    "6. Train & evaluate\n",
    "7. Tune and deploy"
   ]
  },
  {
   "cell_type": "markdown",
   "id": "4fc5f330",
   "metadata": {},
   "source": [
    "### 13. Why do we have to perform EDA before fitting a model to the data?"
   ]
  },
  {
   "cell_type": "markdown",
   "id": "352fc450",
   "metadata": {},
   "source": [
    "**Exploratory Data Analysis (EDA)** helps understand data patterns, detect outliers, handle missing values, and choose suitable features and models."
   ]
  },
  {
   "cell_type": "markdown",
   "id": "53b386c9",
   "metadata": {},
   "source": [
    "### 14. What is correlation?"
   ]
  },
  {
   "cell_type": "markdown",
   "id": "05226a89",
   "metadata": {},
   "source": [
    "**Correlation** refers to the statistical relationship between two variables. It indicates how one variable moves in relation to another. Values range from -1 to 1."
   ]
  },
  {
   "cell_type": "markdown",
   "id": "22b3bc11",
   "metadata": {},
   "source": [
    "### 15. What does negative correlation mean?"
   ]
  },
  {
   "cell_type": "markdown",
   "id": "114f5c15",
   "metadata": {},
   "source": [
    "A **negative correlation** means that as one variable increases, the other decreases. For example, the more hours you spend watching TV, the lower your exam score might be."
   ]
  },
  {
   "cell_type": "markdown",
   "id": "ca8b7fde",
   "metadata": {},
   "source": [
    "### 16. How can you find correlation between variables in Python?"
   ]
  },
  {
   "cell_type": "code",
   "execution_count": 2,
   "id": "71e1eb9c",
   "metadata": {},
   "outputs": [
    {
     "name": "stdout",
     "output_type": "stream",
     "text": [
      "     X    Y\n",
      "X  1.0 -1.0\n",
      "Y -1.0  1.0\n"
     ]
    },
    {
     "data": {
      "image/png": "[encoded data removed]",
      "text/plain": [
       "<Figure size 640x480 with 2 Axes>"
      ]
     },
     "metadata": {},
     "output_type": "display_data"
    }
   ],
   "source": [
    "import pandas as pd\n",
    "import seaborn as sns\n",
    "import matplotlib.pyplot as plt\n",
    "\n",
    "df = pd.DataFrame({'X': [1, 2, 3, 4, 5], 'Y': [5, 4, 3, 2, 1]})\n",
    "print(df.corr())\n",
    "sns.heatmap(df.corr(), annot=True)\n",
    "plt.show()\n"
   ]
  },
  {
   "cell_type": "markdown",
   "id": "6c690c0d",
   "metadata": {},
   "source": [
    "### 17. What is causation? Explain difference between correlation and causation with an example."
   ]
  },
  {
   "cell_type": "markdown",
   "id": "7e3f87d9",
   "metadata": {},
   "source": [
    "- **Causation** means one event causes another.\n",
    "- **Correlation** is a mutual relationship.\n",
    "\n",
    "Example: Ice cream sales and drowning are correlated due to summer heat, but one doesn’t cause the other."
   ]
  },
  {
   "cell_type": "markdown",
   "id": "bd65ce66",
   "metadata": {},
   "source": [
    "### 18. What is an Optimizer? What are different types of optimizers? Explain each with an example."
   ]
  },
  {
   "cell_type": "markdown",
   "id": "aab7b877",
   "metadata": {},
   "source": [
    "An **optimizer** adjusts model parameters to reduce loss.\n",
    "\n",
    "**Types:**\n",
    "- Gradient Descent\n",
    "- Stochastic Gradient Descent (SGD)\n",
    "- Adam Optimizer\n",
    "\n",
    "\n",
    "from tensorflow.keras.optimizers import Adam\n",
    "optimizer = Adam(learning_rate=0.001)\n",
    "```"
   ]
  },
  {
   "cell_type": "markdown",
   "id": "cbc592da",
   "metadata": {},
   "source": [
    "### 19. What is sklearn.linear_model?"
   ]
  },
  {
   "cell_type": "markdown",
   "id": "9e741352",
   "metadata": {},
   "source": [
    "`sklearn.linear_model` contains linear models like LinearRegression, LogisticRegression used for predictive modeling."
   ]
  },
  {
   "cell_type": "markdown",
   "id": "27601ada",
   "metadata": {},
   "source": [
    "### 20. What does model.fit() do? What arguments must be given?"
   ]
  },
  {
   "cell_type": "markdown",
   "id": "c9026a8e",
   "metadata": {},
   "source": [
    "`model.fit(X, y)` trains the model on data `X` and target labels `y`."
   ]
  },
  {
   "cell_type": "markdown",
   "id": "094be14e",
   "metadata": {},
   "source": [
    "### 21. What does model.predict() do? What arguments must be given?"
   ]
  },
  {
   "cell_type": "markdown",
   "id": "62d740c1",
   "metadata": {},
   "source": [
    "`model.predict(X_test)` predicts target values using trained model for the test data `X_test`."
   ]
  },
  {
   "cell_type": "markdown",
   "id": "3f98b28f",
   "metadata": {},
   "source": [
    "### 22. What are continuous and categorical variables?"
   ]
  },
  {
   "cell_type": "markdown",
   "id": "b1103a25",
   "metadata": {},
   "source": [
    "- **Continuous variables** can take any numerical value (e.g., height, weight).\n",
    "- **Categorical variables** represent categories or groups (e.g., gender, color)."
   ]
  },
  {
   "cell_type": "markdown",
   "id": "cb59f3d5",
   "metadata": {},
   "source": [
    "### 23. What is feature scaling? How does it help in Machine Learning?"
   ]
  },
  {
   "cell_type": "markdown",
   "id": "48735f9e",
   "metadata": {},
   "source": [
    "**Feature scaling** normalizes input features so that they contribute equally to the result. It improves convergence speed and accuracy."
   ]
  },
  {
   "cell_type": "markdown",
   "id": "362466fd",
   "metadata": {},
   "source": [
    "### 24. How do we perform scaling in Python?"
   ]
  },
  {
   "cell_type": "code",
   "execution_count": 4,
   "id": "8af06047",
   "metadata": {},
   "outputs": [
    {
     "name": "stdout",
     "output_type": "stream",
     "text": [
      "[[-1.22474487 -1.22474487]\n",
      " [ 0.          0.        ]\n",
      " [ 1.22474487  1.22474487]]\n"
     ]
    }
   ],
   "source": [
    "from sklearn.preprocessing import StandardScaler\n",
    "scaler = StandardScaler()\n",
    "data = [[1, 2], [3, 4], [5, 6]]\n",
    "scaled = scaler.fit_transform(data)\n",
    "print(scaled)\n"
   ]
  },
  {
   "cell_type": "markdown",
   "id": "d7b47ca0",
   "metadata": {},
   "source": [
    "### 25. What is sklearn.preprocessing?"
   ]
  },
  {
   "cell_type": "markdown",
   "id": "5fa61ffc",
   "metadata": {},
   "source": [
    "`sklearn.preprocessing` is a module in Scikit-learn that provides methods to scale, normalize, encode, and transform features."
   ]
  },
  {
   "cell_type": "markdown",
   "id": "cfb01936",
   "metadata": {},
   "source": [
    "### 26. How do we split data for model fitting (training and testing) in Python?"
   ]
  },
  {
   "cell_type": "markdown",
   "id": "9747c7b6",
   "metadata": {},
   "source": [
    "### 27. Explain data encoding?"
   ]
  },
  {
   "cell_type": "markdown",
   "id": "73d1146f",
   "metadata": {},
   "source": [
    "**Data encoding** is converting categorical data into numeric form so models can understand.\n",
    "\n",
    "Examples:\n",
    "- One-hot encoding\n",
    "- Label encoding"
   ]
  }
 ],
 "metadata": {
  "kernelspec": {
   "display_name": "Python 3",
   "language": "python",
   "name": "python3"
  },
  "language_info": {
   "codemirror_mode": {
    "name": "ipython",
    "version": 3
   },
   "file_extension": ".py",
   "mimetype": "text/x-python",
   "name": "python",
   "nbconvert_exporter": "python",
   "pygments_lexer": "ipython3",
   "version": "3.13.5"
  }
 },
 "nbformat": 4,
 "nbformat_minor": 5
}
